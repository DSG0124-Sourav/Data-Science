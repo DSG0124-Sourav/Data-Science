{
 "cells": [
  {
   "cell_type": "code",
   "execution_count": 2,
   "id": "836bc1c4",
   "metadata": {},
   "outputs": [
    {
     "name": "stdout",
     "output_type": "stream",
     "text": [
      "Hello World\n"
     ]
    }
   ],
   "source": [
    "print(\"Hello World\")"
   ]
  },
  {
   "cell_type": "code",
   "execution_count": 4,
   "id": "49ce9096",
   "metadata": {},
   "outputs": [
    {
     "name": "stdout",
     "output_type": "stream",
     "text": [
      "Sourav Ghosh\n"
     ]
    }
   ],
   "source": [
    "print(\"Sourav Ghosh\")"
   ]
  },
  {
   "cell_type": "code",
   "execution_count": 5,
   "id": "0a99071c",
   "metadata": {},
   "outputs": [
    {
     "data": {
      "text/plain": [
       "30"
      ]
     },
     "execution_count": 5,
     "metadata": {},
     "output_type": "execute_result"
    }
   ],
   "source": [
    "10+20"
   ]
  },
  {
   "cell_type": "code",
   "execution_count": 6,
   "id": "59b38351",
   "metadata": {},
   "outputs": [
    {
     "data": {
      "text/plain": [
       "10"
      ]
     },
     "execution_count": 6,
     "metadata": {},
     "output_type": "execute_result"
    }
   ],
   "source": [
    "30-20"
   ]
  },
  {
   "cell_type": "code",
   "execution_count": 7,
   "id": "f568d3b1",
   "metadata": {},
   "outputs": [
    {
     "data": {
      "text/plain": [
       "4.166666666666667"
      ]
     },
     "execution_count": 7,
     "metadata": {},
     "output_type": "execute_result"
    }
   ],
   "source": [
    "50/12"
   ]
  },
  {
   "cell_type": "code",
   "execution_count": 8,
   "id": "c7297db3",
   "metadata": {},
   "outputs": [
    {
     "ename": "NameError",
     "evalue": "name 'ESC' is not defined",
     "output_type": "error",
     "traceback": [
      "\u001b[1;31m---------------------------------------------------------------------------\u001b[0m",
      "\u001b[1;31mNameError\u001b[0m                                 Traceback (most recent call last)",
      "Cell \u001b[1;32mIn[8], line 1\u001b[0m\n\u001b[1;32m----> 1\u001b[0m ESC\u001b[38;5;241m+\u001b[39mA\n\u001b[0;32m      2\u001b[0m ESC\u001b[38;5;241m+\u001b[39mB\n\u001b[0;32m      3\u001b[0m Execute: Ctrl\u001b[38;5;241m+\u001b[39mEnter\n",
      "\u001b[1;31mNameError\u001b[0m: name 'ESC' is not defined"
     ]
    }
   ],
   "source": [
    "ESC+A\n",
    "ESC+B\n",
    "Execute: Ctrl+Enter\n",
    "Delet: ESC+D+D"
   ]
  },
  {
   "cell_type": "markdown",
   "id": "a9e24e07",
   "metadata": {},
   "source": [
    "Hello!!"
   ]
  },
  {
   "cell_type": "markdown",
   "id": "0199c1c2",
   "metadata": {},
   "source": [
    "Markdown for comment"
   ]
  },
  {
   "cell_type": "code",
   "execution_count": null,
   "id": "79a7b7bd",
   "metadata": {},
   "outputs": [],
   "source": [
    "   "
   ]
  }
 ],
 "metadata": {
  "kernelspec": {
   "display_name": "Python 3 (ipykernel)",
   "language": "python",
   "name": "python3"
  },
  "language_info": {
   "codemirror_mode": {
    "name": "ipython",
    "version": 3
   },
   "file_extension": ".py",
   "mimetype": "text/x-python",
   "name": "python",
   "nbconvert_exporter": "python",
   "pygments_lexer": "ipython3",
   "version": "3.11.5"
  }
 },
 "nbformat": 4,
 "nbformat_minor": 5
}
